{
 "cells": [
  {
   "cell_type": "code",
   "execution_count": 16,
   "id": "ff427ac6",
   "metadata": {},
   "outputs": [],
   "source": [
    "import numpy as np"
   ]
  },
  {
   "cell_type": "markdown",
   "id": "9d69dc72",
   "metadata": {},
   "source": [
    "## 1) Voyelles simples\n",
    "\n"
   ]
  },
  {
   "cell_type": "markdown",
   "id": "10ea7c1f",
   "metadata": {},
   "source": [
    "Le hangeul est composé de 10 voyelles simples.\n"
   ]
  },
  {
   "cell_type": "markdown",
   "id": "e3c9685f",
   "metadata": {},
   "source": [
    "#### Import"
   ]
  },
  {
   "cell_type": "code",
   "execution_count": 17,
   "id": "ae976554",
   "metadata": {},
   "outputs": [
    {
     "name": "stdout",
     "output_type": "stream",
     "text": [
      "['ㅏ', 'ㅓ', 'ㅗ', 'ㅜ', 'ㅡ', 'ㅣ', 'ㅑ', 'ㅕ', 'ㅛ', 'ㅠ'] ['아', '어', '오', '우', '으', '이', '야', '여', '요', '유']\n"
     ]
    }
   ],
   "source": [
    "hangeul_vs = ['ㅏ','ㅓ', 'ㅗ' ,'ㅜ','ㅡ','ㅣ','ㅑ','ㅕ','ㅛ','ㅠ']\n",
    "hangeul_vs_debut = ['아', '어', '오', '우', '으', '이', '야', '여', '요', '유']\n",
    "alphageul_vs = ['a', 'eo', 'o', 'ou', 'eu', 'i', 'ya', 'yeo', 'yo', 'you']\n",
    "\n",
    "print(hangeul_vs, hangeul_vs_debut)"
   ]
  },
  {
   "cell_type": "code",
   "execution_count": 18,
   "id": "7bdc1602",
   "metadata": {},
   "outputs": [
    {
     "data": {
      "text/plain": [
       "({'ㅏ': 'a',\n",
       "  'ㅓ': 'eo',\n",
       "  'ㅗ': 'o',\n",
       "  'ㅜ': 'ou',\n",
       "  'ㅡ': 'eu',\n",
       "  'ㅣ': 'i',\n",
       "  'ㅑ': 'ya',\n",
       "  'ㅕ': 'yeo',\n",
       "  'ㅛ': 'yo',\n",
       "  'ㅠ': 'you'},\n",
       " {'아': 'a',\n",
       "  '어': 'eo',\n",
       "  '오': 'o',\n",
       "  '우': 'ou',\n",
       "  '으': 'eu',\n",
       "  '이': 'i',\n",
       "  '야': 'ya',\n",
       "  '여': 'yeo',\n",
       "  '요': 'yo',\n",
       "  '유': 'you'})"
      ]
     },
     "execution_count": 18,
     "metadata": {},
     "output_type": "execute_result"
    }
   ],
   "source": [
    "hangeul_vs_dict = {}\n",
    "\n",
    "for i, hangeul in enumerate(hangeul_vs):\n",
    "    hangeul_vs_dict[hangeul] = alphageul_vs[i]\n",
    "\n",
    "hangeul_vs_debut_dict = {}\n",
    "\n",
    "for i, hangeul in enumerate(hangeul_vs_debut):\n",
    "    hangeul_vs_debut_dict[hangeul] = alphageul_vs[i]\n",
    "\n",
    "\n",
    "hangeul_vs_dict,hangeul_vs_debut_dict"
   ]
  },
  {
   "cell_type": "markdown",
   "id": "a0393f77",
   "metadata": {},
   "source": [
    "### Prononciation"
   ]
  },
  {
   "cell_type": "markdown",
   "id": "48922e82",
   "metadata": {},
   "source": [
    "ㅏ se prononce [a]\n",
    "\n",
    "ㅑ se prononce [ya]\n",
    "\n",
    "ㅓ se prononce comme un son [o] ouvert, comme dans le mot « bonne ».\n",
    "\n",
    "ㅕ se prononce comme un son [yo] ouvert, comme dans le mot « Yosh ».\n",
    "\n",
    "ㅗ se prononce comme un son [ô] fermé, comme dans le mot « Bro ».\n",
    "\n",
    "ㅛ se prononce comme un son [yô] fermé, comme dans le mot « Yo ».\n",
    "\n",
    "ㅜ se prononce [ou]\n",
    "\n",
    "ㅠ se prononce [you]\n",
    "\n",
    "ㅡ Elle se prononce comme un son [eu], tout en étirant les lèvres plutôt qu’en les arrondissant.\n",
    "\n",
    "ㅣ se prononce [i], comme dans le mot « idée »."
   ]
  },
  {
   "cell_type": "markdown",
   "id": "ee9440d3",
   "metadata": {},
   "source": [
    "### Entrainement "
   ]
  },
  {
   "cell_type": "code",
   "execution_count": 19,
   "id": "232b417d",
   "metadata": {},
   "outputs": [
    {
     "name": "stdout",
     "output_type": "stream",
     "text": [
      "ㅓ\n"
     ]
    },
    {
     "name": "stdout",
     "output_type": "stream",
     "text": [
      "ㅓ cool \n",
      "\n",
      "ㅣ\n",
      "ㅣ C'etait : i \n",
      "\n",
      "ㅑ\n",
      "ㅑ cool \n",
      "\n",
      "ㅠ\n",
      "ㅠ cool \n",
      "\n",
      "ㅛ\n",
      "ㅛ C'etait : yo \n",
      "\n"
     ]
    }
   ],
   "source": [
    "for i in range (5):\n",
    "    rn = np.random.randint(0, len(hangeul_vs_dict))\n",
    "\n",
    "    rand_hangeul = (hangeul_vs[rn])\n",
    "    print(rand_hangeul)\n",
    "    \n",
    "    user_ans = input(\"Quel est cette voyelle simple ?\")\n",
    "\n",
    "    if user_ans == hangeul_vs_dict[rand_hangeul]:\n",
    "        print(rand_hangeul, 'cool \\n')\n",
    "    else:\n",
    "        print(rand_hangeul, \"C'etait :\", hangeul_vs_dict[rand_hangeul], '\\n')"
   ]
  },
  {
   "cell_type": "markdown",
   "id": "ed87a1d6",
   "metadata": {},
   "source": [
    "### Situation en debut de mot"
   ]
  },
  {
   "cell_type": "markdown",
   "id": "04766001",
   "metadata": {},
   "source": [
    "\n",
    " Si une voyelle est en debut de mot il faut un 0 pour l'ecrire\n",
    " \n",
    "Tel que : 아 야 어 여 오 요 우 유 으 이"
   ]
  },
  {
   "cell_type": "code",
   "execution_count": 54,
   "id": "42a00055",
   "metadata": {},
   "outputs": [
    {
     "name": "stdout",
     "output_type": "stream",
     "text": [
      "우\n"
     ]
    },
    {
     "name": "stdout",
     "output_type": "stream",
     "text": [
      "우 = ou \n",
      "\n",
      "유\n",
      "유 = you \n",
      "\n",
      "우\n",
      "우 = ou \n",
      "\n",
      "으\n",
      "으 = eu \n",
      "\n",
      "아\n",
      "아 = a \n",
      "\n"
     ]
    }
   ],
   "source": [
    "for i in range (5):\n",
    "    rn = np.random.randint(0, len(hangeul_vs_debut_dict))\n",
    "\n",
    "    rand_hangeul = (hangeul_vs_debut[rn])\n",
    "    print(rand_hangeul)\n",
    "    \n",
    "    user_ans = input(\"Quel est cette voyelle simple ?\")\n",
    "\n",
    "    if user_ans == hangeul_vs_debut_dict[rand_hangeul]:\n",
    "        print(rand_hangeul, '=', user_ans, '\\n')\n",
    "    else:\n",
    "        print(rand_hangeul, \"C'etait :\", hangeul_vs_debut_dict[rand_hangeul], '\\n')"
   ]
  },
  {
   "cell_type": "markdown",
   "id": "74dacaf5",
   "metadata": {},
   "source": [
    "## 2) Voyelles composées"
   ]
  },
  {
   "cell_type": "markdown",
   "id": "7fc23cf2",
   "metadata": {},
   "source": [
    "En coréen, des voyelles simples peuvent être assemblées pour former des voyelles composées"
   ]
  },
  {
   "cell_type": "markdown",
   "id": "09b6167b",
   "metadata": {},
   "source": [
    "### Import"
   ]
  },
  {
   "cell_type": "code",
   "execution_count": 20,
   "id": "600737c2",
   "metadata": {},
   "outputs": [
    {
     "name": "stdout",
     "output_type": "stream",
     "text": [
      "['ㅐ', 'ㅒ', 'ㅔ', 'ㅖ', 'ㅘ', 'ㅙ', 'ㅚ', 'ㅝ', 'ㅞ', 'ㅟ', 'ㅢ'] ['애', '얘', '에', '예', '와', '왜', '외', '워', '웨', '위', '의']\n"
     ]
    }
   ],
   "source": [
    "hangeul_vc = ['ㅐ', 'ㅒ', 'ㅔ', 'ㅖ', 'ㅘ', 'ㅙ', 'ㅚ', 'ㅝ', 'ㅞ', 'ㅟ', 'ㅢ',]\n",
    "hangeul_vc_debut = [ '애', '얘', '에', '예', '와', '왜', '외', '워', '웨', '위', '의',]\n",
    "alphageul_vc = ['ae', 'yae', 'e', 'ye', 'wa', 'wae', 'oe', 'wo', 'we', 'wi', 'eui']\n",
    "\n",
    "print(hangeul_vc, hangeul_vc_debut)"
   ]
  },
  {
   "cell_type": "code",
   "execution_count": 21,
   "id": "0a14fbea",
   "metadata": {},
   "outputs": [
    {
     "data": {
      "text/plain": [
       "({'ㅐ': 'ae',\n",
       "  'ㅒ': 'yae',\n",
       "  'ㅔ': 'e',\n",
       "  'ㅖ': 'ye',\n",
       "  'ㅘ': 'wa',\n",
       "  'ㅙ': 'wae',\n",
       "  'ㅚ': 'oe',\n",
       "  'ㅝ': 'wo',\n",
       "  'ㅞ': 'we',\n",
       "  'ㅟ': 'wi',\n",
       "  'ㅢ': 'eui'},\n",
       " {'애': 'ae',\n",
       "  '얘': 'yae',\n",
       "  '에': 'e',\n",
       "  '예': 'ye',\n",
       "  '와': 'wa',\n",
       "  '왜': 'wae',\n",
       "  '외': 'oe',\n",
       "  '워': 'wo',\n",
       "  '웨': 'we',\n",
       "  '위': 'wi',\n",
       "  '의': 'eui'})"
      ]
     },
     "execution_count": 21,
     "metadata": {},
     "output_type": "execute_result"
    }
   ],
   "source": [
    "hangeul_vc_dict = {}\n",
    "for i, hangeul in enumerate(hangeul_vc):\n",
    "    hangeul_vc_dict[hangeul] = alphageul_vc[i]\n",
    "\n",
    "hangeul_vc_debut_dict = {}\n",
    "\n",
    "for i, hangeul in enumerate(hangeul_vc_debut):\n",
    "    hangeul_vc_debut_dict[hangeul] = alphageul_vc[i]\n",
    "\n",
    "\n",
    "hangeul_vc_dict,hangeul_vc_debut_dict"
   ]
  },
  {
   "cell_type": "markdown",
   "id": "a7788c8e",
   "metadata": {},
   "source": [
    "### Similarité de prononciation"
   ]
  },
  {
   "cell_type": "markdown",
   "id": "877eabdb",
   "metadata": {},
   "source": [
    "### Entrainement "
   ]
  },
  {
   "cell_type": "code",
   "execution_count": 26,
   "id": "956c343b",
   "metadata": {},
   "outputs": [
    {
     "name": "stdout",
     "output_type": "stream",
     "text": [
      "ㅙ\n"
     ]
    },
    {
     "name": "stdout",
     "output_type": "stream",
     "text": [
      "ㅙ cool \n",
      "\n",
      "ㅟ\n",
      "ㅟ C'etait : wi \n",
      "\n",
      "ㅒ\n",
      "ㅒ cool \n",
      "\n",
      "ㅘ\n",
      "ㅘ C'etait : wa \n",
      "\n",
      "ㅝ\n",
      "ㅝ C'etait : wo \n",
      "\n"
     ]
    }
   ],
   "source": [
    "for i in range (5):\n",
    "    rn = np.random.randint(0, len(hangeul_vc_dict))\n",
    "\n",
    "    rand_hangeul = (hangeul_vc[rn])\n",
    "    print(rand_hangeul)\n",
    "    \n",
    "    user_ans = input(\"Quel est cette voyelle composée ?\")\n",
    "\n",
    "    if user_ans == hangeul_vc_dict[rand_hangeul]:\n",
    "        print(rand_hangeul, 'cool \\n')\n",
    "    else:\n",
    "        print(rand_hangeul, \"C'etait :\", hangeul_vc_dict[rand_hangeul], '\\n')"
   ]
  },
  {
   "cell_type": "code",
   "execution_count": 29,
   "id": "0141ce6e",
   "metadata": {},
   "outputs": [
    {
     "name": "stdout",
     "output_type": "stream",
     "text": [
      "왜\n",
      "왜 C'etait : wae \n",
      "\n",
      "예\n",
      "예 C'etait : ye \n",
      "\n",
      "위\n",
      "위 C'etait : wi \n",
      "\n",
      "왜\n",
      "왜 C'etait : wae \n",
      "\n",
      "외\n",
      "외 C'etait : oe \n",
      "\n"
     ]
    }
   ],
   "source": [
    "for i in range (5):\n",
    "    rn = np.random.randint(0, len(hangeul_vc_debut_dict))\n",
    "\n",
    "    rand_hangeul = (hangeul_vc_debut[rn])\n",
    "    print(rand_hangeul)\n",
    "    \n",
    "    user_ans = input(\"Quel est cette voyelle composée ?\")\n",
    "\n",
    "    if user_ans == hangeul_vc_debut_dict[rand_hangeul]:\n",
    "        print(rand_hangeul, '=', user_ans, '\\n')\n",
    "    else:\n",
    "        print(rand_hangeul, \"C'etait :\", hangeul_vc_debut_dict[rand_hangeul], '\\n')"
   ]
  },
  {
   "cell_type": "markdown",
   "id": "3c6ba280",
   "metadata": {},
   "source": [
    "## 3) Consones simple"
   ]
  },
  {
   "cell_type": "markdown",
   "id": "2f65f06c",
   "metadata": {},
   "source": [
    "### Import de data"
   ]
  },
  {
   "cell_type": "code",
   "execution_count": 10,
   "id": "9934ea48",
   "metadata": {},
   "outputs": [],
   "source": [
    "hangeul_cs = ['ㄱ', 'ㅋ', 'ㄷ', 'ㅌ',\t'ㅂ', 'ㅍ', 'ㅈ', 'ㅊ', 'ㅅ', 'ㅎ', 'ㄴ', 'ㅁ', 'ㅇ', 'ㄹ']\n",
    "alphageul_cs = ['g,k', 'k', 'd,t', 't', 'b,p', 'p', 'dj', 'tch', 's', 'h', 'n', 'm', 'ng', 'r,l',]"
   ]
  },
  {
   "cell_type": "code",
   "execution_count": 11,
   "id": "32b891cc",
   "metadata": {},
   "outputs": [
    {
     "data": {
      "text/plain": [
       "{'ㄱ': 'g,k',\n",
       " 'ㅋ': 'k',\n",
       " 'ㄷ': 'd,t',\n",
       " 'ㅌ': 't',\n",
       " 'ㅂ': 'b,p',\n",
       " 'ㅍ': 'p',\n",
       " 'ㅈ': 'dj',\n",
       " 'ㅊ': 'tch',\n",
       " 'ㅅ': 's',\n",
       " 'ㅎ': 'h',\n",
       " 'ㄴ': 'n',\n",
       " 'ㅁ': 'm',\n",
       " 'ㅇ': 'ng',\n",
       " 'ㄹ': 'r,l'}"
      ]
     },
     "execution_count": 11,
     "metadata": {},
     "output_type": "execute_result"
    }
   ],
   "source": [
    "hangeul_cs_dict = {}\n",
    "\n",
    "for i, hangeul in enumerate(hangeul_cs):\n",
    "    hangeul_cs_dict[hangeul] = alphageul_cs[i]\n",
    "\n",
    "hangeul_cs_dict"
   ]
  },
  {
   "cell_type": "markdown",
   "id": "2584d140",
   "metadata": {},
   "source": [
    "### Prononciation"
   ]
  },
  {
   "cell_type": "markdown",
   "id": "337ac087",
   "metadata": {},
   "source": [
    "ㄱ\n",
    "Début de syllabe : à mi-chemin entre les sons [gu] et [k] -  가\n",
    "Fin de syllabe : son [k] bloqué -  악\n",
    "\n",
    "ㄴ\n",
    "Début de syllabe : son [n] -  나\n",
    "Fin de syllabe : son [n] bloqué -  안\n",
    "\n",
    "ㄷ\n",
    "Début de syllabe : à mi-chemin entre les sons [d] et [t] -  다\n",
    "Fin de syllabe : son [t] bloqué -  앋\n",
    "\n",
    "ㄹ\n",
    "Début de syllabe : proche du son [l] -  라\n",
    "Fin de syllabe : proche du son [l] bloqué -  알\n",
    "\n",
    "ㅁ\n",
    "Début de syllabe : son [m] -  마\n",
    "Fin de syllabe : son [m] bloqué -  암\n",
    "\n",
    "ㅂ\n",
    "Début de syllabe : à mi-chemin entre les sons [b] et [p] -  바\n",
    "Fin de syllabe : son [p] bloqué -  압\n",
    "\n",
    "ㅅ\n",
    "Début de syllabe : son [s] -  사\n",
    "Fin de syllabe : son [t] bloqué -  앗\n",
    "Devant les voyelles qui ont une sonorité en [i] (telles ㅣ, ㅑ, ㅕ, ㅛ… etc), ㅅ se prononce [sh]. -  시\n",
    "\n",
    "ㅇ\n",
    "Début de syllabe : pas de son -  아\n",
    "Fin de syllabe : son [ng] bloqué -  앙\n",
    "\n",
    "ㅈ\n",
    "Début de syllabe : à mi-chemin entre les sons [dj] et [tch] -  자\n",
    "Fin de syllabe : son [t] bloqué -  앚\n",
    "\n",
    "ㅊ\n",
    "Début de syllabe : son [tch] expiré -  차\n",
    "Fin de syllabe : son [t] bloqué -  앛\n",
    "\n",
    "ㅋ\n",
    "Début de syllabe : son [k] expiré -  카\n",
    "Fin de syllabe : son [k] bloqué -  앜\n",
    "\n",
    "ㅌ\n",
    "Début de syllabe : son [t] expiré -  타\n",
    "Fin de syllabe : son [t] bloqué -  앝\n",
    "\n",
    "ㅍ\n",
    "Début de syllabe : son [p] expiré -  파\n",
    "Fin de syllabe : son [p] bloqué -  앞\n",
    "\n",
    "ㅎ\n",
    "Début de syllabe : son [h] expiré -  하\n",
    "Fin de syllabe : son [t] bloqué -  앟"
   ]
  },
  {
   "cell_type": "markdown",
   "id": "ee02c4ef",
   "metadata": {},
   "source": [
    "### Entrainement"
   ]
  },
  {
   "cell_type": "code",
   "execution_count": null,
   "id": "aad41078",
   "metadata": {},
   "outputs": [],
   "source": [
    "for i in range (10):\n",
    "    rn = np.random.randint(0, len(hangeul_cs_dict))\n",
    "\n",
    "    rand_hangeul = (hangeul_cs[rn])\n",
    "    print(rand_hangeul)\n",
    "    \n",
    "    user_ans = input(\"Quel est cette consonne simple ?\")\n",
    "\n",
    "    if user_ans == hangeul_cs_dict[rand_hangeul]:\n",
    "        print(rand_hangeul, 'cool \\n')\n",
    "    else:\n",
    "        print(rand_hangeul, \"C'etait :\", hangeul_cs_dict[rand_hangeul], '\\n')"
   ]
  },
  {
   "cell_type": "markdown",
   "id": "4e2830a5",
   "metadata": {},
   "source": [
    "### Prononciation en fin de scyllabe"
   ]
  },
  {
   "cell_type": "markdown",
   "id": "6dad358c",
   "metadata": {},
   "source": [
    "[k] ㄱㅋ\n",
    "\n",
    "[n] ㄴ\n",
    " \n",
    "[t] ㄷ ㅅㅈㅊㅌㅎ\n",
    "\n",
    "[l] ㄹ\n",
    " \n",
    "[m] ㅁ\n",
    " \n",
    "[p] ㅂ ㅍ\n",
    "\n",
    "[ng] ㅇ"
   ]
  },
  {
   "cell_type": "markdown",
   "id": "5254c881",
   "metadata": {},
   "source": [
    "Ainsi, les syllabes  악 et  앜 se prononcent de la même manière.\n",
    "\n",
    "De même, les syllabe  앋,  앗,  앛 ou encore  앝 se prononcent à l’identique également.\n",
    "\n",
    "Si vous entendez le son  압, il ne vous est pas possible de savoir s’il s’agit de 압 ou de 앞. Seul l’apprentissage du vocabulaire coréen vous permettra d’écrire correctement ces sons en fonction des situations."
   ]
  },
  {
   "cell_type": "markdown",
   "id": "8fecc390",
   "metadata": {},
   "source": [
    "#### 끝나면 알 거야"
   ]
  },
  {
   "cell_type": "code",
   "execution_count": null,
   "id": "01908a60",
   "metadata": {},
   "outputs": [],
   "source": [
    "geut na myeon al geo ya "
   ]
  },
  {
   "cell_type": "markdown",
   "id": "f58f0e88",
   "metadata": {},
   "source": [
    "## 4) Consones doubles\n",
    "\n",
    "\n"
   ]
  },
  {
   "cell_type": "markdown",
   "id": "8bc75dd6",
   "metadata": {},
   "source": [
    "En coréen, il existe cinq consonnes doubles. Les sons qu’émettent ces consonnes n’existent pas en français et il faut donc un peu d’entraînement pour les prononcer correctement. La prononsiation ne sort pas d'air\n"
   ]
  },
  {
   "cell_type": "code",
   "execution_count": 30,
   "id": "93ad06df",
   "metadata": {},
   "outputs": [],
   "source": [
    "hangeul_cd = ['까', '따', '빠', '싸', '짜', ]\n",
    "alphageul_cd = ['kk', 'tt', 'pp', 'ss', 'djj']"
   ]
  },
  {
   "cell_type": "code",
   "execution_count": 31,
   "id": "92cbb2b0",
   "metadata": {},
   "outputs": [
    {
     "data": {
      "text/plain": [
       "{'까': 'kk', '따': 'tt', '빠': 'pp', '싸': 'ss', '짜': 'djj'}"
      ]
     },
     "execution_count": 31,
     "metadata": {},
     "output_type": "execute_result"
    }
   ],
   "source": [
    "hangeul_cd_dict = {}\n",
    "\n",
    "for i, hangeul in enumerate(hangeul_cd):\n",
    "    hangeul_cd_dict[hangeul] = alphageul_cd[i]\n",
    "\n",
    "hangeul_cd_dict"
   ]
  },
  {
   "cell_type": "code",
   "execution_count": 34,
   "id": "57ff93b5",
   "metadata": {},
   "outputs": [
    {
     "name": "stdout",
     "output_type": "stream",
     "text": [
      "따\n",
      "따 cool \n",
      "\n",
      "짜\n",
      "짜 cool \n",
      "\n",
      "빠\n",
      "빠 cool \n",
      "\n",
      "짜\n",
      "짜 cool \n",
      "\n",
      "싸\n",
      "싸 cool \n",
      "\n"
     ]
    }
   ],
   "source": [
    "for i in range (5):\n",
    "    rn = np.random.randint(0, len(hangeul_cd_dict))\n",
    "\n",
    "    rand_hangeul = (hangeul_cd[rn])\n",
    "    print(rand_hangeul)\n",
    "    \n",
    "    user_ans = input(\"Quel est cette consonne double ?\")\n",
    "\n",
    "    if user_ans == hangeul_cd_dict[rand_hangeul]:\n",
    "        print(rand_hangeul, 'cool \\n')\n",
    "    else:\n",
    "        print(rand_hangeul, \"C'etait :\", hangeul_cd_dict[rand_hangeul], '\\n')"
   ]
  },
  {
   "cell_type": "markdown",
   "id": "b6a30d73",
   "metadata": {},
   "source": [
    "En prononçant les consonnes doubles, il faut veiller à faire un son claquant et net, sans sortie d’air. Sans cela, les consonnes doubles pourraient être confondues avec les consonnes simples."
   ]
  },
  {
   "cell_type": "markdown",
   "id": "69e9f9a7",
   "metadata": {},
   "source": [
    "## 5) Everything"
   ]
  },
  {
   "cell_type": "markdown",
   "id": "4fe92d08",
   "metadata": {},
   "source": [
    "### Mise en forme des listes"
   ]
  },
  {
   "cell_type": "code",
   "execution_count": 57,
   "id": "1df9bc20",
   "metadata": {},
   "outputs": [
    {
     "data": {
      "text/plain": [
       "['아',\n",
       " '어',\n",
       " '오',\n",
       " '우',\n",
       " '으',\n",
       " '이',\n",
       " '야',\n",
       " '여',\n",
       " '요',\n",
       " '유',\n",
       " '애',\n",
       " '얘',\n",
       " '에',\n",
       " '예',\n",
       " '와',\n",
       " '왜',\n",
       " '외',\n",
       " '워',\n",
       " '웨',\n",
       " '위',\n",
       " '의',\n",
       " 'ㄱ',\n",
       " 'ㅋ',\n",
       " 'ㄷ',\n",
       " 'ㅌ',\n",
       " 'ㅂ',\n",
       " 'ㅍ',\n",
       " 'ㅈ',\n",
       " 'ㅊ',\n",
       " 'ㅅ',\n",
       " 'ㅎ',\n",
       " 'ㄴ',\n",
       " 'ㅁ',\n",
       " 'ㅇ',\n",
       " 'ㄹ',\n",
       " '까',\n",
       " '따',\n",
       " '빠',\n",
       " '싸',\n",
       " '짜']"
      ]
     },
     "execution_count": 57,
     "metadata": {},
     "output_type": "execute_result"
    }
   ],
   "source": [
    "all_hangeul = ['아', '어', '오', '우', '으', '이', '야', '여', '요', '유',\n",
    "               '애', '얘', '에', '예', '와', '왜', '외', '워', '웨', '위', '의',\n",
    "               'ㄱ', 'ㅋ', 'ㄷ', 'ㅌ', 'ㅂ', 'ㅍ', 'ㅈ', 'ㅊ', 'ㅅ', 'ㅎ', 'ㄴ', 'ㅁ', 'ㅇ', 'ㄹ',\n",
    "               '까', '따', '빠', '싸', '짜']\n",
    "all_alphageul = ['a', 'eo', 'o', 'ou', 'eu', 'i', 'ya', 'yeo', 'yo', 'you',\n",
    "                 'ae', 'yae', 'e', 'ye', 'wa', 'wae', 'oe', 'wo', 'we', 'wi', 'eui',\n",
    "                'g,k', 'k', 'd,t', 't', 'b,p', 'p', 'dj', 'tch', 's', 'h', 'n', 'm', 'ng', 'r,l',\n",
    "                'kk', 'tt', 'pp', 'ss', 'djj']\n",
    "\n",
    "all_hangeul"
   ]
  },
  {
   "cell_type": "code",
   "execution_count": 58,
   "id": "0d9f4dd7",
   "metadata": {},
   "outputs": [
    {
     "data": {
      "text/plain": [
       "{'아': 'a',\n",
       " '어': 'eo',\n",
       " '오': 'o',\n",
       " '우': 'ou',\n",
       " '으': 'eu',\n",
       " '이': 'i',\n",
       " '야': 'ya',\n",
       " '여': 'yeo',\n",
       " '요': 'yo',\n",
       " '유': 'you',\n",
       " '애': 'ae',\n",
       " '얘': 'yae',\n",
       " '에': 'e',\n",
       " '예': 'ye',\n",
       " '와': 'wa',\n",
       " '왜': 'wae',\n",
       " '외': 'oe',\n",
       " '워': 'wo',\n",
       " '웨': 'we',\n",
       " '위': 'wi',\n",
       " '의': 'eui',\n",
       " 'ㄱ': 'g,k',\n",
       " 'ㅋ': 'k',\n",
       " 'ㄷ': 'd,t',\n",
       " 'ㅌ': 't',\n",
       " 'ㅂ': 'b,p',\n",
       " 'ㅍ': 'p',\n",
       " 'ㅈ': 'dj',\n",
       " 'ㅊ': 'tch',\n",
       " 'ㅅ': 's',\n",
       " 'ㅎ': 'h',\n",
       " 'ㄴ': 'n',\n",
       " 'ㅁ': 'm',\n",
       " 'ㅇ': 'ng',\n",
       " 'ㄹ': 'r,l',\n",
       " '까': 'kk',\n",
       " '따': 'tt',\n",
       " '빠': 'pp',\n",
       " '싸': 'ss',\n",
       " '짜': 'djj'}"
      ]
     },
     "execution_count": 58,
     "metadata": {},
     "output_type": "execute_result"
    }
   ],
   "source": [
    "all_hangeul_dict = {}\n",
    "\n",
    "for i, hangeul in enumerate(all_hangeul):\n",
    "    all_hangeul_dict[hangeul] = all_alphageul[i]\n",
    "\n",
    "all_hangeul_dict"
   ]
  },
  {
   "cell_type": "markdown",
   "id": "44e8cebb",
   "metadata": {},
   "source": [
    "### Entrainement "
   ]
  },
  {
   "cell_type": "code",
   "execution_count": 61,
   "id": "73d82cab",
   "metadata": {},
   "outputs": [
    {
     "name": "stdout",
     "output_type": "stream",
     "text": [
      "여\n",
      "여 cool \n",
      "\n",
      "웨\n",
      "웨 C'etait : we \n",
      "\n",
      "애\n",
      "애 C'etait : ae \n",
      "\n",
      "야\n",
      "야 C'etait : ya \n",
      "\n",
      "유\n",
      "유 cool \n",
      "\n",
      "이\n",
      "이 cool \n",
      "\n",
      "ㅌ\n",
      "ㅌ C'etait : t \n",
      "\n",
      "ㄴ\n",
      "ㄴ C'etait : n \n",
      "\n",
      "까\n",
      "까 cool \n",
      "\n",
      "어\n",
      "어 C'etait : eo \n",
      "\n"
     ]
    }
   ],
   "source": [
    "for i in range (10):\n",
    "    rn = np.random.randint(0, len(all_hangeul_dict))\n",
    "\n",
    "    rand_hangeul = (all_hangeul[rn])\n",
    "    print(rand_hangeul)\n",
    "    \n",
    "    user_ans = input(\"Quel est ce hangeul?\")\n",
    "\n",
    "    if user_ans == all_hangeul_dict[rand_hangeul]:\n",
    "        print(rand_hangeul, 'cool \\n')\n",
    "    else:\n",
    "        print(rand_hangeul, \"C'etait :\", all_hangeul_dict[rand_hangeul], '\\n')"
   ]
  },
  {
   "cell_type": "code",
   "execution_count": null,
   "id": "a0a0a7c4",
   "metadata": {},
   "outputs": [],
   "source": []
  }
 ],
 "metadata": {
  "kernelspec": {
   "display_name": "Python 3 (ipykernel)",
   "language": "python",
   "name": "python3"
  },
  "language_info": {
   "codemirror_mode": {
    "name": "ipython",
    "version": 3
   },
   "file_extension": ".py",
   "mimetype": "text/x-python",
   "name": "python",
   "nbconvert_exporter": "python",
   "pygments_lexer": "ipython3",
   "version": "3.9.12"
  }
 },
 "nbformat": 4,
 "nbformat_minor": 5
}
